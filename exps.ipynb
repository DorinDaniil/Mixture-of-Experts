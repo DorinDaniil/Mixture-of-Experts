{
 "cells": [
  {
   "cell_type": "code",
   "execution_count": 4,
   "id": "800ec85f",
   "metadata": {},
   "outputs": [],
   "source": [
    "from src.moe_lbl import MoELayer, load_balancing_loss\n",
    "import torch"
   ]
  },
  {
   "cell_type": "code",
   "execution_count": 5,
   "id": "604f2da8",
   "metadata": {},
   "outputs": [
    {
     "name": "stdout",
     "output_type": "stream",
     "text": [
      "Load Balancing Loss: 0.010130193084478378\n"
     ]
    }
   ],
   "source": [
    "input_dim = 512\n",
    "hidden_dim = 1024\n",
    "num_experts = 8\n",
    "batch_size = 4\n",
    "sequence_length = 10\n",
    "\n",
    "model = MoELayer(input_dim, hidden_dim, num_experts)\n",
    "x = torch.randn(batch_size, sequence_length, input_dim)  # Пример входных данных\n",
    "output, gate_probs = model(x)\n",
    "\n",
    "# Получение индексов экспертов для каждого токена\n",
    "expert_indices = torch.argmax(gate_probs, dim=-1)  # shape: [batch_size, sequence_length]\n",
    "\n",
    "# Вычисление Load-balancing Loss\n",
    "bal_loss = load_balancing_loss(gate_probs, expert_indices, num_experts, alpha=0.01)\n",
    "print(f\"Load Balancing Loss: {bal_loss.item()}\")"
   ]
  }
 ],
 "metadata": {
  "kernelspec": {
   "display_name": "base",
   "language": "python",
   "name": "python3"
  },
  "language_info": {
   "codemirror_mode": {
    "name": "ipython",
    "version": 3
   },
   "file_extension": ".py",
   "mimetype": "text/x-python",
   "name": "python",
   "nbconvert_exporter": "python",
   "pygments_lexer": "ipython3",
   "version": "3.11.7"
  }
 },
 "nbformat": 4,
 "nbformat_minor": 5
}
